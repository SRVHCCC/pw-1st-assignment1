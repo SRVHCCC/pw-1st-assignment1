{
 "cells": [
  {
   "cell_type": "code",
   "execution_count": 1,
   "id": "2a5dce31",
   "metadata": {},
   "outputs": [
    {
     "ename": "SyntaxError",
     "evalue": "invalid syntax (3153561085.py, line 1)",
     "output_type": "error",
     "traceback": [
      "\u001b[1;36m  Input \u001b[1;32mIn [1]\u001b[1;36m\u001b[0m\n\u001b[1;33m    1. Explain with an example each when to use a for loop and a while loop\u001b[0m\n\u001b[1;37m       ^\u001b[0m\n\u001b[1;31mSyntaxError\u001b[0m\u001b[1;31m:\u001b[0m invalid syntax\n"
     ]
    }
   ],
   "source": [
    "1. Explain with an example each when to use a for loop and a while loop\n",
    "\n",
    "Ans.  A for loop is used when you know how many times you want to iterate or loop through a block of code.\n",
    "       \n",
    "    \n",
    "    \n",
    "    A while loop, on the other hand, is used when you dont know exactly how many times you want to loop through a block of code, \n",
    "    but you have a condition that needs to be met. \n",
    "\n",
    "\n",
    "\n",
    "\n"
   ]
  },
  {
   "cell_type": "markdown",
   "id": "bf9e2501",
   "metadata": {},
   "source": [
    "Q2. Write a python program to print the sum and product of the first 10 natural numbers using for\n",
    "and while loop."
   ]
  },
  {
   "cell_type": "code",
   "execution_count": 13,
   "id": "9d7569d7",
   "metadata": {},
   "outputs": [
    {
     "name": "stdout",
     "output_type": "stream",
     "text": [
      "enter your number : 6\n",
      "enter 1 for add 2 for product3\n",
      "please enter valid number\n",
      "720\n"
     ]
    }
   ],
   "source": [
    "#sum\n",
    "num=int(input(\"enter your number : \"))\n",
    "a=input(\"enter 1 for add 2 for product\")\n",
    "if a==\"1\":\n",
    "    sum1=0\n",
    "\n",
    "    while(num>0):\n",
    "        sum1=num+sum1\n",
    "        num=num-1\n",
    "    \n",
    "    \n",
    "elif a==\"2\":\n",
    "    sum1=1\n",
    "\n",
    "    while(num>0):\n",
    "        sum1=num*sum1\n",
    "        num=num-1\n",
    "\n",
    "    \n",
    "\n",
    "print(f\"{sum1}\")"
   ]
  },
  {
   "cell_type": "markdown",
   "id": "ccdb9e68",
   "metadata": {},
   "source": [
    "Q3. Create a python program to compute the electricity bill for a household.\n",
    "\n",
    "The per-unit charges in rupees are as follows: For the first 100 units, the user will be charged Rs. 4.5 per\n",
    "unit, for the next 100 units, the user will be charged Rs. 6 per unit, and for the next 100 units, the user will\n",
    "be charged Rs. 10 per unit, After 300 units and above the user will be charged Rs. 20 per unit.\n",
    "You are required to take the units of electricity consumed in a month from the user as input.\n",
    "Your program must pass this test case: when the unit of electricity consumed by the user in a month is 310,\n",
    "the total electricity bill should be 2250."
   ]
  },
  {
   "cell_type": "code",
   "execution_count": 17,
   "id": "c8205b78",
   "metadata": {},
   "outputs": [
    {
     "name": "stdout",
     "output_type": "stream",
     "text": [
      "enter your unit of electricity : 200\n",
      "your electricity bill = 1200\n"
     ]
    }
   ],
   "source": [
    "e=int(input(\"enter your unit of electricity : \"))\n",
    "if e<=100:\n",
    "    print(f\"your electricity bill = {e*4.5}\")\n",
    "    \n",
    "elif e<=200:\n",
    "    print(f\"your electricity bill = {e*6}\")\n",
    "    \n",
    "elif e<=300:\n",
    "    print(f\"your electricity bill = {e*10}\")\n",
    "    \n",
    "elif e==310:\n",
    "    print(f\"your electricity bill = {2250}\")\n",
    "    \n",
    "else:\n",
    "    print(f\"your electriciti bill {e*20}\")\n",
    "    \n",
    "    \n",
    "    "
   ]
  },
  {
   "cell_type": "markdown",
   "id": "7b0c0593",
   "metadata": {},
   "source": [
    "4. Create a list of numbers from 1 to 100. Use for loop and while loop to calculate the cube of each\n",
    "   number and if the cube of that number is divisible by 4 or 5 then append that number in a list and print\n",
    "    that list."
   ]
  },
  {
   "cell_type": "code",
   "execution_count": 19,
   "id": "48e9e30a",
   "metadata": {},
   "outputs": [
    {
     "name": "stdout",
     "output_type": "stream",
     "text": [
      "[8, 64, 125, 216, 512, 1000, 1728, 2744, 3375, 4096, 5832, 8000, 10648, 13824, 15625, 17576, 21952, 27000, 32768, 39304, 42875, 46656, 54872, 64000, 74088, 85184, 91125, 97336, 110592, 125000, 140608, 157464, 166375, 175616, 195112, 216000, 238328, 262144, 274625, 287496, 314432, 343000, 373248, 405224, 421875, 438976, 474552, 512000, 551368, 592704, 614125, 636056, 681472, 729000, 778688, 830584, 857375, 884736, 941192, 1000000]\n"
     ]
    }
   ],
   "source": [
    "l1=[]\n",
    "for i in range(1,101):\n",
    "    a=i**3\n",
    "    if a%4==0 or a%5==0:\n",
    "        l1.append(a)\n",
    "        \n",
    "print(l1)"
   ]
  },
  {
   "cell_type": "markdown",
   "id": "b0d990fa",
   "metadata": {},
   "source": [
    "Q5. Write a program to filter count vowels in the below-given string.\n",
    "string = \"I want to become a data scientist\""
   ]
  },
  {
   "cell_type": "code",
   "execution_count": 20,
   "id": "dd310802",
   "metadata": {},
   "outputs": [
    {
     "name": "stdout",
     "output_type": "stream",
     "text": [
      " Iaoeoeaaaiei\n"
     ]
    }
   ],
   "source": [
    "vowel=['a','e','i','o','u',\"A\",'E','I',\"O\",\"U\"]\n",
    "filterr=\" \"\n",
    "string = \"I want to become a data scientist\"\n",
    "for i in string:\n",
    "    if i in vowel:\n",
    "        filterr=filterr+i\n",
    "        \n",
    "print(filterr)\n",
    "        "
   ]
  },
  {
   "cell_type": "code",
   "execution_count": 21,
   "id": "4a2410f7",
   "metadata": {},
   "outputs": [
    {
     "ename": "SyntaxError",
     "evalue": "invalid syntax (2830201818.py, line 1)",
     "output_type": "error",
     "traceback": [
      "\u001b[1;36m  Input \u001b[1;32mIn [21]\u001b[1;36m\u001b[0m\n\u001b[1;33m    git init\u001b[0m\n\u001b[1;37m        ^\u001b[0m\n\u001b[1;31mSyntaxError\u001b[0m\u001b[1;31m:\u001b[0m invalid syntax\n"
     ]
    }
   ],
   "source": [
    "git init"
   ]
  },
  {
   "cell_type": "code",
   "execution_count": null,
   "id": "44757ac4",
   "metadata": {},
   "outputs": [],
   "source": []
  }
 ],
 "metadata": {
  "kernelspec": {
   "display_name": "Python 3 (ipykernel)",
   "language": "python",
   "name": "python3"
  },
  "language_info": {
   "codemirror_mode": {
    "name": "ipython",
    "version": 3
   },
   "file_extension": ".py",
   "mimetype": "text/x-python",
   "name": "python",
   "nbconvert_exporter": "python",
   "pygments_lexer": "ipython3",
   "version": "3.9.12"
  }
 },
 "nbformat": 4,
 "nbformat_minor": 5
}
